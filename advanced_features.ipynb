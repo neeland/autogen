{
 "cells": [
  {
   "cell_type": "markdown",
   "metadata": {},
   "source": [
    "# Advanced Config"
   ]
  },
  {
   "cell_type": "markdown",
   "metadata": {},
   "source": [
    "# `config_list_from_json`\n",
    "\n",
    "Daisy-chain configs together --> alternatives when api failure"
   ]
  },
  {
   "cell_type": "code",
   "execution_count": 1,
   "metadata": {
    "id": "wOJ_A2eZNp2k"
   },
   "outputs": [
    {
     "name": "stdout",
     "output_type": "stream",
     "text": [
      "config_list: [{'model': 'gpt-4', 'api_key': 'sk-proj-S0vzLvnzdWmo3wmudRCQT3BlbkFJ6JWclNt49KOxygTxhqJe'}, {'model': 'gpt-3.5-turbo', 'api_key': 'sk-proj-S0vzLvnzdWmo3wmudRCQT3BlbkFJ6JWclNt49KOxygTxhqJe'}]\n"
     ]
    }
   ],
   "source": [
    "from IPython.display import Image, display\n",
    "\n",
    "import autogen\n",
    "from autogen.coding import LocalCommandLineCodeExecutor\n",
    "\n",
    "config_list = autogen.config_list_from_json(\n",
    "    \"OAI_CONFIG_LIST\",\n",
    "    file_location=\".\",\n",
    "    # filter_dict={\"model\": [\"gpt-4\", \"gpt-3.5-turbo\"]},  # comment out to get all\n",
    ")\n",
    "print('config_list:', config_list)"
   ]
  },
  {
   "cell_type": "code",
   "execution_count": null,
   "metadata": {},
   "outputs": [],
   "source": [
    "user_proxy = autogen.UserProxyAgent(\n",
    "    name='user_proxy',\n",
    "    system_message='Human manager',\n",
    "    code_execution_config={'last_n_messages': 2, 'work_dir': 'groupchat'},\n",
    "    human_input_mode='TERMINATE'\n",
    ")"
   ]
  },
  {
   "cell_type": "markdown",
   "metadata": {},
   "source": [
    "Notice, for the `user_proxy`, we do not use the `config_list`"
   ]
  },
  {
   "cell_type": "code",
   "execution_count": 3,
   "metadata": {},
   "outputs": [],
   "source": [
    "assistant = autogen.AssistantAgent(\n",
    "    name=\"assistant\",\n",
    "    llm_config={'config_list': config_list, 'seed': 42}\n",
    ")"
   ]
  },
  {
   "cell_type": "markdown",
   "metadata": {},
   "source": [
    "`'seed': 42` creates a `.cache/42` folder with a `cache.db`, kept as reference for repeat queries"
   ]
  },
  {
   "cell_type": "markdown",
   "metadata": {},
   "source": [
    "# [Enhanced Inference](https://microsoft.github.io/autogen/docs/Use-Cases/enhanced_inference/)\n",
    "\n",
    "* control infernce on llm api with tuning\n",
    "* enhance llm for task\n",
    "* tuning done with:\n",
    "  * validation data\n",
    "  * evaluation function\n",
    "  * metric to optimise\n",
    "  * search space\n",
    "  * budgets"
   ]
  },
  {
   "cell_type": "markdown",
   "metadata": {},
   "source": [
    "* control infernce on llm api with tuning\n",
    "* enhance llm for task\n",
    "* tuning done with:\n",
    "  * validation data\n",
    "  * evaluation function\n",
    "  * metric to optimise\n",
    "  * search space\n",
    "  * budgets"
   ]
  },
  {
   "cell_type": "markdown",
   "metadata": {},
   "source": [
    "### [Tuning](https://microsoft.github.io/autogen/docs/Use-Cases/enhanced_inference/#perform-tuning)"
   ]
  },
  {
   "cell_type": "markdown",
   "metadata": {},
   "source": [
    "\n",
    "```\n",
    "import autogen\n",
    "\n",
    "config, analysis = autogen.Completion.tune(\n",
    "    data=tune_data,\n",
    "    metric=\"success\",\n",
    "    mode=\"max\",\n",
    "    eval_func=eval_func,\n",
    "    inference_budget=0.05,\n",
    "    optimization_budget=3,\n",
    "    num_samples=-1,\n",
    ")\n",
    "```"
   ]
  },
  {
   "cell_type": "markdown",
   "metadata": {},
   "source": [
    "### [API unification](https://microsoft.github.io/autogen/docs/Use-Cases/enhanced_inference/#api-unification)\n",
    "\n",
    "\n",
    "* Don't need to change API code!"
   ]
  },
  {
   "cell_type": "markdown",
   "metadata": {},
   "source": [
    "### [Templating](https://microsoft.github.io/autogen/docs/Use-Cases/enhanced_inference/#templating)\n",
    "\n",
    "```\n",
    "response = client.create(\n",
    "    context={\"problem\": \"How many positive integers, not exceeding 100, are multiples of 2 or 3 but not 4?\"},\n",
    "    prompt=\"{problem} Explain your reasoning step-by-step\",\n",
    "    allow_format_str_template=True,\n",
    "    **config\n",
    ")\n",
    "```"
   ]
  },
  {
   "cell_type": "markdown",
   "metadata": {},
   "source": [
    "### [Logging](https://microsoft.github.io/autogen/docs/Use-Cases/enhanced_inference/#logging)\n",
    "\n",
    "```\n",
    "import autogen.runtime_logging\n",
    "\n",
    "autogen.runtime_logging.start(logger_type=\"sqlite\", config={\"dbname\": \"YOUR_DB_NAME\"})\n",
    "```\n",
    "\n",
    "```\n",
    "autogen.runtime_logging.stop()\n",
    "```"
   ]
  },
  {
   "cell_type": "markdown",
   "metadata": {},
   "source": [
    "# [RAG Applications](https://microsoft.github.io/autogen/blog/2023/10/18/RetrieveChat)\n",
    "\n",
    "* External embedding database ￫ agents able to pull knowledge"
   ]
  },
  {
   "cell_type": "code",
   "execution_count": 2,
   "metadata": {},
   "outputs": [],
   "source": [
    "import autogen\n",
    "from autogen.agentchat.contrib.retrieve_assistant_agent import RetrieveAssistantAgent\n",
    "from autogen.agentchat.contrib.retrieve_user_proxy_agent import RetrieveUserProxyAgent"
   ]
  },
  {
   "cell_type": "markdown",
   "metadata": {},
   "source": [
    "`rag_proxy_agent` automatically creates vector db from `docs_path`"
   ]
  },
  {
   "cell_type": "code",
   "execution_count": 3,
   "metadata": {},
   "outputs": [
    {
     "name": "stderr",
     "output_type": "stream",
     "text": [
      "/home/vscode/.local/lib/python3.8/site-packages/sentence_transformers/cross_encoder/CrossEncoder.py:11: TqdmExperimentalWarning: Using `tqdm.autonotebook.tqdm` in notebook mode. Use `tqdm.tqdm` instead to force console mode (e.g. in jupyter console)\n",
      "  from tqdm.autonotebook import tqdm, trange\n"
     ]
    },
    {
     "data": {
      "application/vnd.jupyter.widget-view+json": {
       "model_id": "e9d8278204e74a5d9601edbcd5eb1997",
       "version_major": 2,
       "version_minor": 0
      },
      "text/plain": [
       "modules.json:   0%|          | 0.00/349 [00:00<?, ?B/s]"
      ]
     },
     "metadata": {},
     "output_type": "display_data"
    },
    {
     "data": {
      "application/vnd.jupyter.widget-view+json": {
       "model_id": "82bed0ded53849ad9ea67025c7b5b4ae",
       "version_major": 2,
       "version_minor": 0
      },
      "text/plain": [
       "config_sentence_transformers.json:   0%|          | 0.00/116 [00:00<?, ?B/s]"
      ]
     },
     "metadata": {},
     "output_type": "display_data"
    },
    {
     "data": {
      "application/vnd.jupyter.widget-view+json": {
       "model_id": "79bb01a90809416394d1ad485e612f1f",
       "version_major": 2,
       "version_minor": 0
      },
      "text/plain": [
       "README.md:   0%|          | 0.00/10.7k [00:00<?, ?B/s]"
      ]
     },
     "metadata": {},
     "output_type": "display_data"
    },
    {
     "data": {
      "application/vnd.jupyter.widget-view+json": {
       "model_id": "64afd74819394bb5b0be8d2daaadede6",
       "version_major": 2,
       "version_minor": 0
      },
      "text/plain": [
       "sentence_bert_config.json:   0%|          | 0.00/53.0 [00:00<?, ?B/s]"
      ]
     },
     "metadata": {},
     "output_type": "display_data"
    },
    {
     "data": {
      "application/vnd.jupyter.widget-view+json": {
       "model_id": "0d90f7fa430747ce9e098d97f7e8f9b3",
       "version_major": 2,
       "version_minor": 0
      },
      "text/plain": [
       "config.json:   0%|          | 0.00/612 [00:00<?, ?B/s]"
      ]
     },
     "metadata": {},
     "output_type": "display_data"
    },
    {
     "data": {
      "application/vnd.jupyter.widget-view+json": {
       "model_id": "011fd8db121348ae841935ae2fbf120f",
       "version_major": 2,
       "version_minor": 0
      },
      "text/plain": [
       "model.safetensors:   0%|          | 0.00/90.9M [00:00<?, ?B/s]"
      ]
     },
     "metadata": {},
     "output_type": "display_data"
    },
    {
     "data": {
      "application/vnd.jupyter.widget-view+json": {
       "model_id": "102985669b944a7aa4b5d61e416c4321",
       "version_major": 2,
       "version_minor": 0
      },
      "text/plain": [
       "tokenizer_config.json:   0%|          | 0.00/350 [00:00<?, ?B/s]"
      ]
     },
     "metadata": {},
     "output_type": "display_data"
    },
    {
     "data": {
      "application/vnd.jupyter.widget-view+json": {
       "model_id": "c1dda53e11dc4253bc445436bdffcaa2",
       "version_major": 2,
       "version_minor": 0
      },
      "text/plain": [
       "vocab.txt:   0%|          | 0.00/232k [00:00<?, ?B/s]"
      ]
     },
     "metadata": {},
     "output_type": "display_data"
    },
    {
     "data": {
      "application/vnd.jupyter.widget-view+json": {
       "model_id": "774d5166af4e44c8981123d90a92d609",
       "version_major": 2,
       "version_minor": 0
      },
      "text/plain": [
       "tokenizer.json:   0%|          | 0.00/466k [00:00<?, ?B/s]"
      ]
     },
     "metadata": {},
     "output_type": "display_data"
    },
    {
     "data": {
      "application/vnd.jupyter.widget-view+json": {
       "model_id": "cf8a3ecb216e487ab37965f7ad5b5639",
       "version_major": 2,
       "version_minor": 0
      },
      "text/plain": [
       "special_tokens_map.json:   0%|          | 0.00/112 [00:00<?, ?B/s]"
      ]
     },
     "metadata": {},
     "output_type": "display_data"
    },
    {
     "data": {
      "application/vnd.jupyter.widget-view+json": {
       "model_id": "0ac471b70e5f4aad96a5a68ce3f1d85e",
       "version_major": 2,
       "version_minor": 0
      },
      "text/plain": [
       "1_Pooling/config.json:   0%|          | 0.00/190 [00:00<?, ?B/s]"
      ]
     },
     "metadata": {},
     "output_type": "display_data"
    }
   ],
   "source": [
    "assistant = RetrieveAssistantAgent(\n",
    "    name=\"assistant\",\n",
    "    system_message=\"You are a helpful assistant.\",\n",
    "    llm_config={'config_list': config_list, 'seed': 42},\n",
    ")\n",
    "\n",
    "rag_proxy_agent = RetrieveUserProxyAgent(\n",
    "    name=\"ragproxyagent\",\n",
    "    retrieve_config={\n",
    "        \"task\": \"qa\",\n",
    "        \"docs_path\": \"https://raw.githubusercontent.com/microsoft/autogen/main/README.md\",\n",
    "    },\n",
    ")"
   ]
  },
  {
   "cell_type": "code",
   "execution_count": 4,
   "metadata": {},
   "outputs": [
    {
     "name": "stdout",
     "output_type": "stream",
     "text": [
      "Trying to create collection.\n"
     ]
    },
    {
     "name": "stderr",
     "output_type": "stream",
     "text": [
      "2024-08-03 15:40:07,269 - autogen.agentchat.contrib.retrieve_user_proxy_agent - INFO - Found 2 chunks.\u001b[0m\n",
      "2024-08-03 15:40:07,275 - autogen.agentchat.contrib.vectordb.chromadb - INFO - No content embedding is provided. Will use the VectorDB's embedding function to generate the content embedding.\u001b[0m\n",
      "Number of requested results 20 is greater than number of elements in index 2, updating n_results = 2\n"
     ]
    },
    {
     "name": "stdout",
     "output_type": "stream",
     "text": [
      "VectorDB returns doc_ids:  [['5e6501a8', '47b63d39']]\n",
      "\u001b[32mAdding content of doc 5e6501a8 to context.\u001b[0m\n",
      "\u001b[32mAdding content of doc 47b63d39 to context.\u001b[0m\n",
      "\u001b[33mragproxyagent\u001b[0m (to assistant):\n",
      "\n",
      "You're a retrieve augmented chatbot. You answer user's questions based on your own knowledge and the\n",
      "context provided by the user.\n",
      "If you can't answer the question with or without the current context, you should reply exactly `UPDATE CONTEXT`.\n",
      "You must give as short an answer as possible.\n",
      "\n",
      "User's question is: What is autogen?\n",
      "\n",
      "Context is: Autogen enables the next-gen LLM applications with a generic [multi-agent conversation](https://microsoft.github.io/autogen/docs/Use-Cases/agent_chat) framework. It offers customizable and conversable agents that integrate LLMs, tools, and humans.\n",
      "By automating chat among multiple capable agents, one can easily make them collectively perform tasks autonomously or with human feedback, including tasks that require using tools via code.\n",
      "\n",
      "Features of this use case include:\n",
      "\n",
      "- **Multi-agent conversations**: AutoGen agents can communicate with each other to solve tasks. This allows for more complex and sophisticated applications than would be possible with a single LLM.\n",
      "- **Customization**: AutoGen agents can be customized to meet the specific needs of an application. This includes the ability to choose the LLMs to use, the types of human input to allow, and the tools to employ.\n",
      "- **Human participation**: AutoGen seamlessly allows human participation. This means that humans can provide input and feedback to the agents as needed.\n",
      "\n",
      "For [example](https://github.com/microsoft/autogen/blob/main/test/twoagent.py),\n",
      "\n",
      "```python\n",
      "from autogen import AssistantAgent, UserProxyAgent, config_list_from_json\n",
      "# Load LLM inference endpoints from an env variable or a file\n",
      "# See https://microsoft.github.io/autogen/docs/FAQ#set-your-api-endpoints\n",
      "# and OAI_CONFIG_LIST_sample\n",
      "config_list = config_list_from_json(env_or_file=\"OAI_CONFIG_LIST\")\n",
      "# You can also set config_list directly as a list, for example, config_list = [{'model': 'gpt-4', 'api_key': '<your OpenAI API key here>'},]\n",
      "assistant = AssistantAgent(\"assistant\", llm_config={\"config_list\": config_list})\n",
      "user_proxy = UserProxyAgent(\"user_proxy\", code_execution_config={\"work_dir\": \"coding\", \"use_docker\": False}) # IMPORTANT: set to True to run code in docker, recommended\n",
      "user_proxy.initiate_chat(assistant, message=\"Plot a chart of NVDA and TESLA stock price change YTD.\")\n",
      "# This initiates an automated chat between the two agents to solve the task\n",
      "```\n",
      "\n",
      "This example can be run with\n",
      "\n",
      "```python\n",
      "python test/twoagent.py\n",
      "```\n",
      "\n",
      "After the repo is cloned.\n",
      "The figure below shows an example conversation flow with AutoGen.\n",
      "![Agent Chat Example](https://github.com/microsoft/autogen/blob/main/website/static/img/chat_example.png)\n",
      "\n",
      "Alternatively, the [sample code](https://github.com/microsoft/autogen/blob/main/samples/simple_chat.py) here allows a user to chat with an AutoGen agent in ChatGPT style.\n",
      "Please find more [code examples](https://microsoft.github.io/autogen/docs/Examples#automated-multi-agent-chat) for this feature.\n",
      "\n",
      "<p align=\"right\" style=\"font-size: 14px; color: #555; margin-top: 20px;\">\n",
      "  <a href=\"#readme-top\" style=\"text-decoration: none; color: blue; font-weight: bold;\">\n",
      "    ↑ Back to Top ↑\n",
      "  </a>\n",
      "</p>\n",
      "\n",
      "## Enhanced LLM Inferences\n",
      "\n",
      "Autogen also helps maximize the utility out of the expensive LLMs such as ChatGPT and GPT-4. It offers [enhanced LLM inference](https://microsoft.github.io/autogen/docs/Use-Cases/enhanced_inference#api-unification) with powerful functionalities like caching, error handling, multi-config inference and templating.\n",
      "\n",
      "<!-- For example, you can optimize generations by LLM with your own tuning data, success metrics, and budgets.\n",
      "\n",
      "```python\n",
      "# perform tuning for openai<1\n",
      "config, analysis = autogen.Completion.tune(\n",
      "    data=tune_data,\n",
      "    metric=\"success\",\n",
      "    mode=\"max\",\n",
      "    eval_func=eval_func,\n",
      "    inference_budget=0.05,\n",
      "    optimization_budget=3,\n",
      "    num_samples=-1,\n",
      ")\n",
      "# perform inference for a test instance\n",
      "response = autogen.Completion.create(context=test_instance, **config)\n",
      "```\n",
      "\n",
      "Please find more [code examples](https://microsoft.github.io/autogen/docs/Examples#tune-gpt-models) for this feature. -->\n",
      "\n",
      "<p align=\"right\" style=\"font-size: 14px; color: #555; margin-top: 20px;\">\n",
      "  <a href=\"#readme-top\" style=\"text-decoration: none; color: blue; font-weight: bold;\">\n",
      "    ↑ Back to Top ↑\n",
      "  </a>\n",
      "</p>\n",
      "\n",
      "## Documentation\n",
      "\n",
      "You can find detailed documentation about AutoGen [here](https://microsoft.github.io/autogen/).\n",
      "\n",
      "In addition, you can find:\n",
      "\n",
      "- [Research](https://microsoft.github.io/autogen/docs/Research), [blogposts](https://microsoft.github.io/autogen/blog) around AutoGen, and [Transparency FAQs](https://github.com/microsoft/autogen/blob/main/TRANSPARENCY_FAQS.md)\n",
      "\n",
      "- [Discord](https://aka.ms/autogen-dc)\n",
      "\n",
      "- [Contributing guide](https://microsoft.github.io/autogen/docs/Contribute)\n",
      "\n",
      "- [Roadmap](https://github.com/orgs/microsoft/projects/989/views/3)\n",
      "\n",
      "<p align=\"right\" style=\"font-size: 14px; color: #555; margin-top: 20px;\">\n",
      "  <a href=\"#readme-top\" style=\"text-decoration: none; color: blue; font-weight: bold;\">\n",
      "    ↑ Back to Top ↑\n",
      "  </a>\n",
      "</p>\n",
      "\n",
      "## Related Papers\n",
      "\n",
      "[AutoGen](https://arxiv.org/abs/2308.08155)\n",
      "\n",
      "```\n",
      "@inproceedings{wu2023autogen,\n",
      "      title={AutoGen: Enabling Next-Gen LLM Applications via Multi-Agent Conversation Framework},\n",
      "      author={Qingyun Wu and Gagan Bansal and Jieyu Zhang and Yiran Wu and Beibin Li and Erkang Zhu and Li Jiang and Xiaoyun Zhang and Shaokun Zhang and Jiale Liu and Ahmed Hassan Awadallah and Ryen W White and Doug Burger and Chi Wang},\n",
      "      year={2023},\n",
      "      eprint={2308.08155},\n",
      "      archivePrefix={arXiv},\n",
      "      primaryClass={cs.AI}\n",
      "}\n",
      "```\n",
      "\n",
      "[EcoOptiGen](https://arxiv.org/abs/2303.04673)\n",
      "\n",
      "```\n",
      "@inproceedings{wang2023EcoOptiGen,\n",
      "    title={Cost-Effective Hyperparameter Optimization for Large Language Model Generation Inference},\n",
      "    author={Chi Wang and Susan Xueqing Liu and Ahmed H. Awadallah},\n",
      "    year={2023},\n",
      "    booktitle={AutoML'23},\n",
      "}\n",
      "```\n",
      "\n",
      "[MathChat](https://arxiv.org/abs/2306.01337)\n",
      "\n",
      "```\n",
      "@inproceedings{wu2023empirical,\n",
      "    title={An Empirical Study on Challenging Math Problem Solving with GPT-4},\n",
      "    author={Yiran Wu and Feiran Jia and Shaokun Zhang and Hangyu Li and Erkang Zhu and Yue Wang and Yin Tat Lee and Richard Peng and Qingyun Wu and Chi Wang},\n",
      "    year={2023},\n",
      "    booktitle={ArXiv preprint arXiv:2306.01337},\n",
      "}\n",
      "```\n",
      "\n",
      "[AgentOptimizer](https://arxiv.org/pdf/2402.11359)\n",
      "\n",
      "```\n",
      "@article{zhang2024training,\n",
      "  title={Training Language Model Agents without Modifying Language Models},\n",
      "  author={Zhang, Shaokun and Zhang, Jieyu and Liu, Jiale and Song, Linxin and Wang, Chi and Krishna, Ranjay and Wu, Qingyun},\n",
      "  journal={ICML'24},\n",
      "  year={2024}\n",
      "}\n",
      "```\n",
      "\n",
      "[StateFlow](https://arxiv.org/abs/2403.11322)\n",
      "```\n",
      "@article{wu2024stateflow,\n",
      "  title={StateFlow: Enhancing LLM Task-Solving through State-Driven Workflows},\n",
      "  author={Wu, Yiran and Yue, Tianwei and Zhang, Shaokun and Wang, Chi and Wu, Qingyun},\n",
      "  journal={arXiv preprint arXiv:2403.11322},\n",
      "  year={2024}\n",
      "}\n",
      "```\n",
      "\n",
      "<p align=\"right\" style=\"font-size: 14px; color: #555; margin-top: 20px;\">\n",
      "  <a href=\"#readme-top\" style=\"text-decoration: none; color: blue; font-weight: bold;\">\n",
      "    ↑ Back to Top ↑\n",
      "  </a>\n",
      "</p>\n",
      "\n",
      "## Contributing\n",
      "\n",
      "This project welcomes contributions and suggestions. Most contributions require you to agree to a\n",
      "Contributor License Agreement (CLA) declaring that you have the right to, and actually do, grant us\n",
      "the rights to use your contribution. For details, visit <https://cla.opensource.microsoft.com>.\n",
      "\n",
      "If you are new to GitHub, [here](https://opensource.guide/how-to-contribute/#how-to-submit-a-contribution) is a detailed help source on getting involved with development on GitHub.\n",
      "\n",
      "When you submit a pull request, a CLA bot will automatically determine whether you need to provide\n",
      "a CLA and decorate the PR appropriately (e.g., status check, comment). Simply follow the instructions\n",
      "provided by the bot. You will only need to do this once across all repos using our CLA.\n",
      "\n",
      "This project has adopted the [Microsoft Open Source Code of Conduct](https://opensource.microsoft.com/codeofconduct/).\n",
      "For more information, see the [Code of Conduct FAQ](https://opensource.microsoft.com/codeofconduct/faq/) or\n",
      "contact [opencode@microsoft.com](mailto:opencode@microsoft.com) with any additional questions or comments.\n",
      "\n",
      "<p align=\"right\" style=\"font-size: 14px; color: #555; margin-top: 20px;\">\n",
      "  <a href=\"#readme-top\" style=\"text-decoration: none; color: blue; font-weight: bold;\">\n",
      "    ↑ Back to Top ↑\n",
      "  </a>\n",
      "</p>\n",
      "\n",
      "## Contributors Wall\n",
      "<a href=\"https://github.com/microsoft/autogen/graphs/contributors\">\n",
      "  <img src=\"https://contrib.rocks/image?repo=microsoft/autogen&max=204\" />\n",
      "</a>\n",
      "\n",
      "<p align=\"right\" style=\"font-size: 14px; color: #555; margin-top: 20px;\">\n",
      "  <a href=\"#readme-top\" style=\"text-decoration: none; color: blue; font-weight: bold;\">\n",
      "    ↑ Back to Top ↑\n",
      "  </a>\n",
      "</p>\n",
      "\n",
      "# Legal Notices\n",
      "\n",
      "Microsoft and any contributors grant you a license to the Microsoft documentation and other content\n",
      "in this repository under the [Creative Commons Attribution 4.0 International Public License](https://creativecommons.org/licenses/by/4.0/legalcode),\n",
      "see the [LICENSE](LICENSE) file, and grant you a license to any code in the repository under the [MIT License](https://opensource.org/licenses/MIT), see the\n",
      "[LICENSE-CODE](LICENSE-CODE) file.\n",
      "\n",
      "Microsoft, Windows, Microsoft Azure, and/or other Microsoft products and services referenced in the documentation\n",
      "may be either trademarks or registered trademarks of Microsoft in the United States and/or other countries.\n",
      "The licenses for this project do not grant you rights to use any Microsoft names, logos, or trademarks.\n",
      "Microsoft's general trademark guidelines can be found at http://go.microsoft.com/fwlink/?LinkID=254653.\n",
      "\n",
      "Privacy information can be found at https://privacy.microsoft.com/en-us/\n",
      "\n",
      "Microsoft and any contributors reserve all other rights, whether under their respective copyrights, patents,\n",
      "or trademarks, whether by implication, estoppel, or otherwise.\n",
      "\n",
      "<p align=\"right\" style=\"font-size: 14px; color: #555; margin-top: 20px;\">\n",
      "  <a href=\"#readme-top\" style=\"text-decoration: none; color: blue; font-weight: bold;\">\n",
      "    ↑ Back to Top ↑\n",
      "  </a>\n",
      "</p>\n",
      "<a name=\"readme-top\"></a>\n",
      "\n",
      "[![PyPI version](https://badge.fury.io/py/pyautogen.svg)](https://badge.fury.io/py/pyautogen)\n",
      "[![Build](https://github.com/microsoft/autogen/actions/workflows/python-package.yml/badge.svg)](https://github.com/microsoft/autogen/actions/workflows/python-package.yml)\n",
      "![Python Version](https://img.shields.io/badge/3.8%20%7C%203.9%20%7C%203.10%20%7C%203.11%20%7C%203.12-blue)\n",
      "[![Downloads](https://static.pepy.tech/badge/pyautogen/week)](https://pepy.tech/project/pyautogen)\n",
      "[![Discord](https://img.shields.io/discord/1153072414184452236?logo=discord&style=flat)](https://aka.ms/autogen-dc)\n",
      "[![Twitter](https://img.shields.io/twitter/url/https/twitter.com/cloudposse.svg?style=social&label=Follow%20%40pyautogen)](https://twitter.com/pyautogen)\n",
      "\n",
      "[![NuGet version](https://badge.fury.io/nu/AutoGen.Core.svg)](https://badge.fury.io/nu/AutoGen.Core)\n",
      "\n",
      "# AutoGen\n",
      "[📚 Cite paper](#related-papers).\n",
      "<!-- <p align=\"center\">\n",
      "    <img src=\"https://github.com/microsoft/autogen/blob/main/website/static/img/flaml.svg\"  width=200>\n",
      "    <br>\n",
      "</p> -->\n",
      ":fire: May 29, 2024: DeepLearning.ai launched a new short course [AI Agentic Design Patterns with AutoGen](https://www.deeplearning.ai/short-courses/ai-agentic-design-patterns-with-autogen), made in collaboration with Microsoft and Penn State University, and taught by AutoGen creators [Chi Wang](https://github.com/sonichi) and [Qingyun Wu](https://github.com/qingyun-wu).\n",
      "\n",
      ":fire: May 24, 2024: Foundation Capital published an article on [Forbes: The Promise of Multi-Agent AI](https://www.forbes.com/sites/joannechen/2024/05/24/the-promise-of-multi-agent-ai/?sh=2c1e4f454d97) and a video [AI in the Real World Episode 2: Exploring Multi-Agent AI and AutoGen with Chi Wang](https://www.youtube.com/watch?v=RLwyXRVvlNk).\n",
      "\n",
      ":fire: May 13, 2024: [The Economist](https://www.economist.com/science-and-technology/2024/05/13/todays-ai-models-are-impressive-teams-of-them-will-be-formidable) published an article about multi-agent systems (MAS) following a January 2024 interview with [Chi Wang](https://github.com/sonichi).\n",
      "\n",
      ":fire: May 11, 2024: [AutoGen: Enabling Next-Gen LLM Applications via Multi-Agent Conversation](https://openreview.net/pdf?id=uAjxFFing2) received the best paper award at the [ICLR 2024 LLM Agents Workshop](https://llmagents.github.io/).\n",
      "\n",
      ":fire: Apr 26, 2024: [AutoGen.NET](https://microsoft.github.io/autogen-for-net/) is available for .NET developers!\n",
      "\n",
      ":fire: Apr 17, 2024: Andrew Ng cited AutoGen in [The Batch newsletter](https://www.deeplearning.ai/the-batch/issue-245/) and [What's next for AI agentic workflows](https://youtu.be/sal78ACtGTc?si=JduUzN_1kDnMq0vF) at Sequoia Capital's AI Ascent (Mar 26).\n",
      "\n",
      ":fire: Mar 3, 2024: What's new in AutoGen? 📰[Blog](https://microsoft.github.io/autogen/blog/2024/03/03/AutoGen-Update); 📺[Youtube](https://www.youtube.com/watch?v=j_mtwQiaLGU).\n",
      "\n",
      ":fire: Mar 1, 2024: the first AutoGen multi-agent experiment on the challenging [GAIA](https://huggingface.co/spaces/gaia-benchmark/leaderboard) benchmark achieved the No. 1 accuracy in all the three levels.\n",
      "\n",
      "<!-- :tada: Jan 30, 2024: AutoGen is highlighted by Peter Lee in Microsoft Research Forum [Keynote](https://t.co/nUBSjPDjqD). -->\n",
      "\n",
      ":tada: Dec 31, 2023: [AutoGen: Enabling Next-Gen LLM Applications via Multi-Agent Conversation Framework](https://arxiv.org/abs/2308.08155) is selected by [TheSequence: My Five Favorite AI Papers of 2023](https://thesequence.substack.com/p/my-five-favorite-ai-papers-of-2023).\n",
      "\n",
      "<!-- :fire: Nov 24: pyautogen [v0.2](https://github.com/microsoft/autogen/releases/tag/v0.2.0) is released with many updates and new features compared to v0.1.1. It switches to using openai-python v1. Please read the [migration guide](https://microsoft.github.io/autogen/docs/Installation#python). -->\n",
      "\n",
      "<!-- :fire: Nov 11: OpenAI's Assistants are available in AutoGen and interoperatable with other AutoGen agents! Checkout our [blogpost](https://microsoft.github.io/autogen/blog/2023/11/13/OAI-assistants) for details and examples. -->\n",
      "\n",
      ":tada: Nov 8, 2023: AutoGen is selected into [Open100: Top 100 Open Source achievements](https://www.benchcouncil.org/evaluation/opencs/annual.html) 35 days after spinoff from [FLAML](https://github.com/microsoft/FLAML).\n",
      "\n",
      "<!-- :tada: Nov 6, 2023: AutoGen is mentioned by Satya Nadella in a [fireside chat](https://youtu.be/0pLBvgYtv6U). -->\n",
      "\n",
      "<!-- :tada: Nov 1, 2023: AutoGen is the top trending repo on GitHub in October 2023. -->\n",
      "\n",
      "<!-- :tada: Oct 03, 2023: AutoGen spins off from [FLAML](https://github.com/microsoft/FLAML) on GitHub. -->\n",
      "\n",
      "<!-- :tada: Aug 16: Paper about AutoGen on [arxiv](https://arxiv.org/abs/2308.08155). -->\n",
      "\n",
      ":tada: Mar 29, 2023: AutoGen is first created in [FLAML](https://github.com/microsoft/FLAML).\n",
      "\n",
      "<!--\n",
      ":fire: FLAML is highlighted in OpenAI's [cookbook](https://github.com/openai/openai-cookbook#related-resources-from-around-the-web).\n",
      "\n",
      ":fire: [autogen](https://microsoft.github.io/autogen/) is released with support for ChatGPT and GPT-4, based on [Cost-Effective Hyperparameter Optimization for Large Language Model Generation Inference](https://arxiv.org/abs/2303.04673).\n",
      "\n",
      ":fire: FLAML supports Code-First AutoML & Tuning – Private Preview in [Microsoft Fabric Data Science](https://learn.microsoft.com/en-us/fabric/data-science/). -->\n",
      "\n",
      "<p align=\"right\" style=\"font-size: 14px; color: #555; margin-top: 20px;\">\n",
      "  <a href=\"#readme-top\" style=\"text-decoration: none; color: blue; font-weight: bold;\">\n",
      "    ↑ Back to Top ↑\n",
      "  </a>\n",
      "</p>\n",
      "\n",
      "## What is AutoGen\n",
      "\n",
      "AutoGen is an open-source programming framework for building AI agents and facilitating cooperation among multiple agents to solve tasks. AutoGen aims to streamline the development and research of agentic AI, much like PyTorch does for Deep Learning. It offers features such as agents capable of interacting with each other, facilitates the use of various large language models (LLMs) and tool use support, autonomous and human-in-the-loop workflows, and multi-agent conversation patterns.\n",
      "\n",
      "**Open Source Statement**: The project welcomes contributions from developers and organizations worldwide. Our goal is to foster a collaborative and inclusive community where diverse perspectives and expertise can drive innovation and enhance the project's capabilities. Whether you are an individual contributor or represent an organization, we invite you to join us in shaping the future of this project. Together, we can build something truly remarkable.\n",
      "\n",
      "The project is currently maintained by a [dynamic group of volunteers](https://butternut-swordtail-8a5.notion.site/410675be605442d3ada9a42eb4dfef30?v=fa5d0a79fd3d4c0f9c112951b2831cbb&pvs=4) from several different organizations. Contact project administrators Chi Wang and Qingyun Wu via auto-gen@outlook.com if you are interested in becoming a maintainer.\n",
      "\n",
      "\n",
      "![AutoGen Overview](https://github.com/microsoft/autogen/blob/main/website/static/img/autogen_agentchat.png)\n",
      "\n",
      "- AutoGen enables building next-gen LLM applications based on [multi-agent conversations](https://microsoft.github.io/autogen/docs/Use-Cases/agent_chat) with minimal effort. It simplifies the orchestration, automation, and optimization of a complex LLM workflow. It maximizes the performance of LLM models and overcomes their weaknesses.\n",
      "- It supports [diverse conversation patterns](https://microsoft.github.io/autogen/docs/Use-Cases/agent_chat#supporting-diverse-conversation-patterns) for complex workflows. With customizable and conversable agents, developers can use AutoGen to build a wide range of conversation patterns concerning conversation autonomy,\n",
      "  the number of agents, and agent conversation topology.\n",
      "- It provides a collection of working systems with different complexities. These systems span a [wide range of applications](https://microsoft.github.io/autogen/docs/Use-Cases/agent_chat#diverse-applications-implemented-with-autogen) from various domains and complexities. This demonstrates how AutoGen can easily support diverse conversation patterns.\n",
      "- AutoGen provides [enhanced LLM inference](https://microsoft.github.io/autogen/docs/Use-Cases/enhanced_inference#api-unification). It offers utilities like API unification and caching, and advanced usage patterns, such as error handling, multi-config inference, context programming, etc.\n",
      "\n",
      "AutoGen is created out of collaborative [research](https://microsoft.github.io/autogen/docs/Research) from Microsoft, Penn State University, and the University of Washington.\n",
      "\n",
      "<p align=\"right\" style=\"font-size: 14px; color: #555; margin-top: 20px;\">\n",
      "  <a href=\"#readme-top\" style=\"text-decoration: none; color: blue; font-weight: bold;\">\n",
      "    ↑ Back to Top ↑\n",
      "  </a>\n",
      "</p>\n",
      "\n",
      "## Roadmaps\n",
      "\n",
      "To see what we are working on and what we plan to work on, please check our\n",
      "[Roadmap Issues](https://aka.ms/autogen-roadmap).\n",
      "\n",
      "<p align=\"right\" style=\"font-size: 14px; color: #555; margin-top: 20px;\">\n",
      "  <a href=\"#readme-top\" style=\"text-decoration: none; color: blue; font-weight: bold;\">\n",
      "    ↑ Back to Top ↑\n",
      "  </a>\n",
      "</p>\n",
      "\n",
      "## Quickstart\n",
      "The easiest way to start playing is\n",
      "1. Click below to use the GitHub Codespace\n",
      "\n",
      "    [![Open in GitHub Codespaces](https://github.com/codespaces/badge.svg)](https://codespaces.new/microsoft/autogen?quickstart=1)\n",
      "\n",
      " 2. Copy OAI_CONFIG_LIST_sample to ./notebook folder, name to OAI_CONFIG_LIST, and set the correct configuration.\n",
      " 3. Start playing with the notebooks!\n",
      "\n",
      "*NOTE*: OAI_CONFIG_LIST_sample lists GPT-4 as the default model, as this represents our current recommendation, and is known to work well with AutoGen. If you use a model other than GPT-4, you may need to revise various system prompts (especially if using weaker models like GPT-3.5-turbo). Moreover, if you use models other than those hosted by OpenAI or Azure, you may incur additional risks related to alignment and safety. Proceed with caution if updating this default.\n",
      "\n",
      "<p align=\"right\" style=\"font-size: 14px; color: #555; margin-top: 20px;\">\n",
      "  <a href=\"#readme-top\" style=\"text-decoration: none; color: blue; font-weight: bold;\">\n",
      "    ↑ Back to Top ↑\n",
      "  </a>\n",
      "</p>\n",
      "\n",
      "## [Installation](https://microsoft.github.io/autogen/docs/Installation)\n",
      "### Option 1. Install and Run AutoGen in Docker\n",
      "\n",
      "Find detailed instructions for users [here](https://microsoft.github.io/autogen/docs/installation/Docker#step-1-install-docker), and for developers [here](https://microsoft.github.io/autogen/docs/Contribute#docker-for-development).\n",
      "\n",
      "### Option 2. Install AutoGen Locally\n",
      "\n",
      "AutoGen requires **Python version >= 3.8, < 3.13**. It can be installed from pip:\n",
      "\n",
      "```bash\n",
      "pip install pyautogen\n",
      "```\n",
      "\n",
      "Minimal dependencies are installed without extra options. You can install extra options based on the feature you need.\n",
      "\n",
      "<!-- For example, use the following to install the dependencies needed by the [`blendsearch`](https://microsoft.github.io/FLAML/docs/Use-Cases/Tune-User-Defined-Function#blendsearch-economical-hyperparameter-optimization-with-blended-search-strategy) option.\n",
      "```bash\n",
      "pip install \"pyautogen[blendsearch]\"\n",
      "``` -->\n",
      "\n",
      "Find more options in [Installation](https://microsoft.github.io/autogen/docs/Installation#option-2-install-autogen-locally-using-virtual-environment).\n",
      "\n",
      "<!-- Each of the [`notebook examples`](https://github.com/microsoft/autogen/tree/main/notebook) may require a specific option to be installed. -->\n",
      "\n",
      "Even if you are installing and running AutoGen locally outside of docker, the recommendation and default behavior of agents is to perform [code execution](https://microsoft.github.io/autogen/docs/FAQ/#code-execution) in docker. Find more instructions and how to change the default behaviour [here](https://microsoft.github.io/autogen/docs/Installation#code-execution-with-docker-(default)).\n",
      "\n",
      "For LLM inference configurations, check the [FAQs](https://microsoft.github.io/autogen/docs/FAQ#set-your-api-endpoints).\n",
      "\n",
      "<p align=\"right\" style=\"font-size: 14px; color: #555; margin-top: 20px;\">\n",
      "  <a href=\"#readme-top\" style=\"text-decoration: none; color: blue; font-weight: bold;\">\n",
      "    ↑ Back to Top ↑\n",
      "  </a>\n",
      "</p>\n",
      "\n",
      "## Multi-Agent Conversation Framework\n",
      "\n",
      "\n",
      "\n",
      "--------------------------------------------------------------------------------\n"
     ]
    },
    {
     "name": "stderr",
     "output_type": "stream",
     "text": [
      "huggingface/tokenizers: The current process just got forked, after parallelism has already been used. Disabling parallelism to avoid deadlocks...\n",
      "To disable this warning, you can either:\n",
      "\t- Avoid using `tokenizers` before the fork if possible\n",
      "\t- Explicitly set the environment variable TOKENIZERS_PARALLELISM=(true | false)\n"
     ]
    },
    {
     "name": "stdout",
     "output_type": "stream",
     "text": [
      "\u001b[33massistant\u001b[0m (to ragproxyagent):\n",
      "\n",
      "Autogen is a generic multi-agent conversation framework that automates chat among multiple capable agents for tasks that may require using tools via code, with or without human feedback. It allows customization of agents and integrates Large Language Models (LLMs), tools, and humans. The framework also enables complex applications by facilitating communication between multiple agents. Autogen offers features for customization, human participation, and enhanced LLM inferences. It can be applied with diverse conversation patterns for complex workflows and provides examples of working systems across various domains and complexities.\n",
      "\n",
      "--------------------------------------------------------------------------------\n",
      "\u001b[31m\n",
      ">>>>>>>> NO HUMAN INPUT RECEIVED.\u001b[0m\n"
     ]
    },
    {
     "data": {
      "text/plain": [
       "ChatResult(chat_id=None, chat_history=[{'content': 'You\\'re a retrieve augmented chatbot. You answer user\\'s questions based on your own knowledge and the\\ncontext provided by the user.\\nIf you can\\'t answer the question with or without the current context, you should reply exactly `UPDATE CONTEXT`.\\nYou must give as short an answer as possible.\\n\\nUser\\'s question is: What is autogen?\\n\\nContext is: Autogen enables the next-gen LLM applications with a generic [multi-agent conversation](https://microsoft.github.io/autogen/docs/Use-Cases/agent_chat) framework. It offers customizable and conversable agents that integrate LLMs, tools, and humans.\\nBy automating chat among multiple capable agents, one can easily make them collectively perform tasks autonomously or with human feedback, including tasks that require using tools via code.\\n\\nFeatures of this use case include:\\n\\n- **Multi-agent conversations**: AutoGen agents can communicate with each other to solve tasks. This allows for more complex and sophisticated applications than would be possible with a single LLM.\\n- **Customization**: AutoGen agents can be customized to meet the specific needs of an application. This includes the ability to choose the LLMs to use, the types of human input to allow, and the tools to employ.\\n- **Human participation**: AutoGen seamlessly allows human participation. This means that humans can provide input and feedback to the agents as needed.\\n\\nFor [example](https://github.com/microsoft/autogen/blob/main/test/twoagent.py),\\n\\n```python\\nfrom autogen import AssistantAgent, UserProxyAgent, config_list_from_json\\n# Load LLM inference endpoints from an env variable or a file\\n# See https://microsoft.github.io/autogen/docs/FAQ#set-your-api-endpoints\\n# and OAI_CONFIG_LIST_sample\\nconfig_list = config_list_from_json(env_or_file=\"OAI_CONFIG_LIST\")\\n# You can also set config_list directly as a list, for example, config_list = [{\\'model\\': \\'gpt-4\\', \\'api_key\\': \\'<your OpenAI API key here>\\'},]\\nassistant = AssistantAgent(\"assistant\", llm_config={\"config_list\": config_list})\\nuser_proxy = UserProxyAgent(\"user_proxy\", code_execution_config={\"work_dir\": \"coding\", \"use_docker\": False}) # IMPORTANT: set to True to run code in docker, recommended\\nuser_proxy.initiate_chat(assistant, message=\"Plot a chart of NVDA and TESLA stock price change YTD.\")\\n# This initiates an automated chat between the two agents to solve the task\\n```\\n\\nThis example can be run with\\n\\n```python\\npython test/twoagent.py\\n```\\n\\nAfter the repo is cloned.\\nThe figure below shows an example conversation flow with AutoGen.\\n![Agent Chat Example](https://github.com/microsoft/autogen/blob/main/website/static/img/chat_example.png)\\n\\nAlternatively, the [sample code](https://github.com/microsoft/autogen/blob/main/samples/simple_chat.py) here allows a user to chat with an AutoGen agent in ChatGPT style.\\nPlease find more [code examples](https://microsoft.github.io/autogen/docs/Examples#automated-multi-agent-chat) for this feature.\\n\\n<p align=\"right\" style=\"font-size: 14px; color: #555; margin-top: 20px;\">\\n  <a href=\"#readme-top\" style=\"text-decoration: none; color: blue; font-weight: bold;\">\\n    ↑ Back to Top ↑\\n  </a>\\n</p>\\n\\n## Enhanced LLM Inferences\\n\\nAutogen also helps maximize the utility out of the expensive LLMs such as ChatGPT and GPT-4. It offers [enhanced LLM inference](https://microsoft.github.io/autogen/docs/Use-Cases/enhanced_inference#api-unification) with powerful functionalities like caching, error handling, multi-config inference and templating.\\n\\n<!-- For example, you can optimize generations by LLM with your own tuning data, success metrics, and budgets.\\n\\n```python\\n# perform tuning for openai<1\\nconfig, analysis = autogen.Completion.tune(\\n    data=tune_data,\\n    metric=\"success\",\\n    mode=\"max\",\\n    eval_func=eval_func,\\n    inference_budget=0.05,\\n    optimization_budget=3,\\n    num_samples=-1,\\n)\\n# perform inference for a test instance\\nresponse = autogen.Completion.create(context=test_instance, **config)\\n```\\n\\nPlease find more [code examples](https://microsoft.github.io/autogen/docs/Examples#tune-gpt-models) for this feature. -->\\n\\n<p align=\"right\" style=\"font-size: 14px; color: #555; margin-top: 20px;\">\\n  <a href=\"#readme-top\" style=\"text-decoration: none; color: blue; font-weight: bold;\">\\n    ↑ Back to Top ↑\\n  </a>\\n</p>\\n\\n## Documentation\\n\\nYou can find detailed documentation about AutoGen [here](https://microsoft.github.io/autogen/).\\n\\nIn addition, you can find:\\n\\n- [Research](https://microsoft.github.io/autogen/docs/Research), [blogposts](https://microsoft.github.io/autogen/blog) around AutoGen, and [Transparency FAQs](https://github.com/microsoft/autogen/blob/main/TRANSPARENCY_FAQS.md)\\n\\n- [Discord](https://aka.ms/autogen-dc)\\n\\n- [Contributing guide](https://microsoft.github.io/autogen/docs/Contribute)\\n\\n- [Roadmap](https://github.com/orgs/microsoft/projects/989/views/3)\\n\\n<p align=\"right\" style=\"font-size: 14px; color: #555; margin-top: 20px;\">\\n  <a href=\"#readme-top\" style=\"text-decoration: none; color: blue; font-weight: bold;\">\\n    ↑ Back to Top ↑\\n  </a>\\n</p>\\n\\n## Related Papers\\n\\n[AutoGen](https://arxiv.org/abs/2308.08155)\\n\\n```\\n@inproceedings{wu2023autogen,\\n      title={AutoGen: Enabling Next-Gen LLM Applications via Multi-Agent Conversation Framework},\\n      author={Qingyun Wu and Gagan Bansal and Jieyu Zhang and Yiran Wu and Beibin Li and Erkang Zhu and Li Jiang and Xiaoyun Zhang and Shaokun Zhang and Jiale Liu and Ahmed Hassan Awadallah and Ryen W White and Doug Burger and Chi Wang},\\n      year={2023},\\n      eprint={2308.08155},\\n      archivePrefix={arXiv},\\n      primaryClass={cs.AI}\\n}\\n```\\n\\n[EcoOptiGen](https://arxiv.org/abs/2303.04673)\\n\\n```\\n@inproceedings{wang2023EcoOptiGen,\\n    title={Cost-Effective Hyperparameter Optimization for Large Language Model Generation Inference},\\n    author={Chi Wang and Susan Xueqing Liu and Ahmed H. Awadallah},\\n    year={2023},\\n    booktitle={AutoML\\'23},\\n}\\n```\\n\\n[MathChat](https://arxiv.org/abs/2306.01337)\\n\\n```\\n@inproceedings{wu2023empirical,\\n    title={An Empirical Study on Challenging Math Problem Solving with GPT-4},\\n    author={Yiran Wu and Feiran Jia and Shaokun Zhang and Hangyu Li and Erkang Zhu and Yue Wang and Yin Tat Lee and Richard Peng and Qingyun Wu and Chi Wang},\\n    year={2023},\\n    booktitle={ArXiv preprint arXiv:2306.01337},\\n}\\n```\\n\\n[AgentOptimizer](https://arxiv.org/pdf/2402.11359)\\n\\n```\\n@article{zhang2024training,\\n  title={Training Language Model Agents without Modifying Language Models},\\n  author={Zhang, Shaokun and Zhang, Jieyu and Liu, Jiale and Song, Linxin and Wang, Chi and Krishna, Ranjay and Wu, Qingyun},\\n  journal={ICML\\'24},\\n  year={2024}\\n}\\n```\\n\\n[StateFlow](https://arxiv.org/abs/2403.11322)\\n```\\n@article{wu2024stateflow,\\n  title={StateFlow: Enhancing LLM Task-Solving through State-Driven Workflows},\\n  author={Wu, Yiran and Yue, Tianwei and Zhang, Shaokun and Wang, Chi and Wu, Qingyun},\\n  journal={arXiv preprint arXiv:2403.11322},\\n  year={2024}\\n}\\n```\\n\\n<p align=\"right\" style=\"font-size: 14px; color: #555; margin-top: 20px;\">\\n  <a href=\"#readme-top\" style=\"text-decoration: none; color: blue; font-weight: bold;\">\\n    ↑ Back to Top ↑\\n  </a>\\n</p>\\n\\n## Contributing\\n\\nThis project welcomes contributions and suggestions. Most contributions require you to agree to a\\nContributor License Agreement (CLA) declaring that you have the right to, and actually do, grant us\\nthe rights to use your contribution. For details, visit <https://cla.opensource.microsoft.com>.\\n\\nIf you are new to GitHub, [here](https://opensource.guide/how-to-contribute/#how-to-submit-a-contribution) is a detailed help source on getting involved with development on GitHub.\\n\\nWhen you submit a pull request, a CLA bot will automatically determine whether you need to provide\\na CLA and decorate the PR appropriately (e.g., status check, comment). Simply follow the instructions\\nprovided by the bot. You will only need to do this once across all repos using our CLA.\\n\\nThis project has adopted the [Microsoft Open Source Code of Conduct](https://opensource.microsoft.com/codeofconduct/).\\nFor more information, see the [Code of Conduct FAQ](https://opensource.microsoft.com/codeofconduct/faq/) or\\ncontact [opencode@microsoft.com](mailto:opencode@microsoft.com) with any additional questions or comments.\\n\\n<p align=\"right\" style=\"font-size: 14px; color: #555; margin-top: 20px;\">\\n  <a href=\"#readme-top\" style=\"text-decoration: none; color: blue; font-weight: bold;\">\\n    ↑ Back to Top ↑\\n  </a>\\n</p>\\n\\n## Contributors Wall\\n<a href=\"https://github.com/microsoft/autogen/graphs/contributors\">\\n  <img src=\"https://contrib.rocks/image?repo=microsoft/autogen&max=204\" />\\n</a>\\n\\n<p align=\"right\" style=\"font-size: 14px; color: #555; margin-top: 20px;\">\\n  <a href=\"#readme-top\" style=\"text-decoration: none; color: blue; font-weight: bold;\">\\n    ↑ Back to Top ↑\\n  </a>\\n</p>\\n\\n# Legal Notices\\n\\nMicrosoft and any contributors grant you a license to the Microsoft documentation and other content\\nin this repository under the [Creative Commons Attribution 4.0 International Public License](https://creativecommons.org/licenses/by/4.0/legalcode),\\nsee the [LICENSE](LICENSE) file, and grant you a license to any code in the repository under the [MIT License](https://opensource.org/licenses/MIT), see the\\n[LICENSE-CODE](LICENSE-CODE) file.\\n\\nMicrosoft, Windows, Microsoft Azure, and/or other Microsoft products and services referenced in the documentation\\nmay be either trademarks or registered trademarks of Microsoft in the United States and/or other countries.\\nThe licenses for this project do not grant you rights to use any Microsoft names, logos, or trademarks.\\nMicrosoft\\'s general trademark guidelines can be found at http://go.microsoft.com/fwlink/?LinkID=254653.\\n\\nPrivacy information can be found at https://privacy.microsoft.com/en-us/\\n\\nMicrosoft and any contributors reserve all other rights, whether under their respective copyrights, patents,\\nor trademarks, whether by implication, estoppel, or otherwise.\\n\\n<p align=\"right\" style=\"font-size: 14px; color: #555; margin-top: 20px;\">\\n  <a href=\"#readme-top\" style=\"text-decoration: none; color: blue; font-weight: bold;\">\\n    ↑ Back to Top ↑\\n  </a>\\n</p>\\n<a name=\"readme-top\"></a>\\n\\n[![PyPI version](https://badge.fury.io/py/pyautogen.svg)](https://badge.fury.io/py/pyautogen)\\n[![Build](https://github.com/microsoft/autogen/actions/workflows/python-package.yml/badge.svg)](https://github.com/microsoft/autogen/actions/workflows/python-package.yml)\\n![Python Version](https://img.shields.io/badge/3.8%20%7C%203.9%20%7C%203.10%20%7C%203.11%20%7C%203.12-blue)\\n[![Downloads](https://static.pepy.tech/badge/pyautogen/week)](https://pepy.tech/project/pyautogen)\\n[![Discord](https://img.shields.io/discord/1153072414184452236?logo=discord&style=flat)](https://aka.ms/autogen-dc)\\n[![Twitter](https://img.shields.io/twitter/url/https/twitter.com/cloudposse.svg?style=social&label=Follow%20%40pyautogen)](https://twitter.com/pyautogen)\\n\\n[![NuGet version](https://badge.fury.io/nu/AutoGen.Core.svg)](https://badge.fury.io/nu/AutoGen.Core)\\n\\n# AutoGen\\n[📚 Cite paper](#related-papers).\\n<!-- <p align=\"center\">\\n    <img src=\"https://github.com/microsoft/autogen/blob/main/website/static/img/flaml.svg\"  width=200>\\n    <br>\\n</p> -->\\n:fire: May 29, 2024: DeepLearning.ai launched a new short course [AI Agentic Design Patterns with AutoGen](https://www.deeplearning.ai/short-courses/ai-agentic-design-patterns-with-autogen), made in collaboration with Microsoft and Penn State University, and taught by AutoGen creators [Chi Wang](https://github.com/sonichi) and [Qingyun Wu](https://github.com/qingyun-wu).\\n\\n:fire: May 24, 2024: Foundation Capital published an article on [Forbes: The Promise of Multi-Agent AI](https://www.forbes.com/sites/joannechen/2024/05/24/the-promise-of-multi-agent-ai/?sh=2c1e4f454d97) and a video [AI in the Real World Episode 2: Exploring Multi-Agent AI and AutoGen with Chi Wang](https://www.youtube.com/watch?v=RLwyXRVvlNk).\\n\\n:fire: May 13, 2024: [The Economist](https://www.economist.com/science-and-technology/2024/05/13/todays-ai-models-are-impressive-teams-of-them-will-be-formidable) published an article about multi-agent systems (MAS) following a January 2024 interview with [Chi Wang](https://github.com/sonichi).\\n\\n:fire: May 11, 2024: [AutoGen: Enabling Next-Gen LLM Applications via Multi-Agent Conversation](https://openreview.net/pdf?id=uAjxFFing2) received the best paper award at the [ICLR 2024 LLM Agents Workshop](https://llmagents.github.io/).\\n\\n:fire: Apr 26, 2024: [AutoGen.NET](https://microsoft.github.io/autogen-for-net/) is available for .NET developers!\\n\\n:fire: Apr 17, 2024: Andrew Ng cited AutoGen in [The Batch newsletter](https://www.deeplearning.ai/the-batch/issue-245/) and [What\\'s next for AI agentic workflows](https://youtu.be/sal78ACtGTc?si=JduUzN_1kDnMq0vF) at Sequoia Capital\\'s AI Ascent (Mar 26).\\n\\n:fire: Mar 3, 2024: What\\'s new in AutoGen? 📰[Blog](https://microsoft.github.io/autogen/blog/2024/03/03/AutoGen-Update); 📺[Youtube](https://www.youtube.com/watch?v=j_mtwQiaLGU).\\n\\n:fire: Mar 1, 2024: the first AutoGen multi-agent experiment on the challenging [GAIA](https://huggingface.co/spaces/gaia-benchmark/leaderboard) benchmark achieved the No. 1 accuracy in all the three levels.\\n\\n<!-- :tada: Jan 30, 2024: AutoGen is highlighted by Peter Lee in Microsoft Research Forum [Keynote](https://t.co/nUBSjPDjqD). -->\\n\\n:tada: Dec 31, 2023: [AutoGen: Enabling Next-Gen LLM Applications via Multi-Agent Conversation Framework](https://arxiv.org/abs/2308.08155) is selected by [TheSequence: My Five Favorite AI Papers of 2023](https://thesequence.substack.com/p/my-five-favorite-ai-papers-of-2023).\\n\\n<!-- :fire: Nov 24: pyautogen [v0.2](https://github.com/microsoft/autogen/releases/tag/v0.2.0) is released with many updates and new features compared to v0.1.1. It switches to using openai-python v1. Please read the [migration guide](https://microsoft.github.io/autogen/docs/Installation#python). -->\\n\\n<!-- :fire: Nov 11: OpenAI\\'s Assistants are available in AutoGen and interoperatable with other AutoGen agents! Checkout our [blogpost](https://microsoft.github.io/autogen/blog/2023/11/13/OAI-assistants) for details and examples. -->\\n\\n:tada: Nov 8, 2023: AutoGen is selected into [Open100: Top 100 Open Source achievements](https://www.benchcouncil.org/evaluation/opencs/annual.html) 35 days after spinoff from [FLAML](https://github.com/microsoft/FLAML).\\n\\n<!-- :tada: Nov 6, 2023: AutoGen is mentioned by Satya Nadella in a [fireside chat](https://youtu.be/0pLBvgYtv6U). -->\\n\\n<!-- :tada: Nov 1, 2023: AutoGen is the top trending repo on GitHub in October 2023. -->\\n\\n<!-- :tada: Oct 03, 2023: AutoGen spins off from [FLAML](https://github.com/microsoft/FLAML) on GitHub. -->\\n\\n<!-- :tada: Aug 16: Paper about AutoGen on [arxiv](https://arxiv.org/abs/2308.08155). -->\\n\\n:tada: Mar 29, 2023: AutoGen is first created in [FLAML](https://github.com/microsoft/FLAML).\\n\\n<!--\\n:fire: FLAML is highlighted in OpenAI\\'s [cookbook](https://github.com/openai/openai-cookbook#related-resources-from-around-the-web).\\n\\n:fire: [autogen](https://microsoft.github.io/autogen/) is released with support for ChatGPT and GPT-4, based on [Cost-Effective Hyperparameter Optimization for Large Language Model Generation Inference](https://arxiv.org/abs/2303.04673).\\n\\n:fire: FLAML supports Code-First AutoML & Tuning – Private Preview in [Microsoft Fabric Data Science](https://learn.microsoft.com/en-us/fabric/data-science/). -->\\n\\n<p align=\"right\" style=\"font-size: 14px; color: #555; margin-top: 20px;\">\\n  <a href=\"#readme-top\" style=\"text-decoration: none; color: blue; font-weight: bold;\">\\n    ↑ Back to Top ↑\\n  </a>\\n</p>\\n\\n## What is AutoGen\\n\\nAutoGen is an open-source programming framework for building AI agents and facilitating cooperation among multiple agents to solve tasks. AutoGen aims to streamline the development and research of agentic AI, much like PyTorch does for Deep Learning. It offers features such as agents capable of interacting with each other, facilitates the use of various large language models (LLMs) and tool use support, autonomous and human-in-the-loop workflows, and multi-agent conversation patterns.\\n\\n**Open Source Statement**: The project welcomes contributions from developers and organizations worldwide. Our goal is to foster a collaborative and inclusive community where diverse perspectives and expertise can drive innovation and enhance the project\\'s capabilities. Whether you are an individual contributor or represent an organization, we invite you to join us in shaping the future of this project. Together, we can build something truly remarkable.\\n\\nThe project is currently maintained by a [dynamic group of volunteers](https://butternut-swordtail-8a5.notion.site/410675be605442d3ada9a42eb4dfef30?v=fa5d0a79fd3d4c0f9c112951b2831cbb&pvs=4) from several different organizations. Contact project administrators Chi Wang and Qingyun Wu via auto-gen@outlook.com if you are interested in becoming a maintainer.\\n\\n\\n![AutoGen Overview](https://github.com/microsoft/autogen/blob/main/website/static/img/autogen_agentchat.png)\\n\\n- AutoGen enables building next-gen LLM applications based on [multi-agent conversations](https://microsoft.github.io/autogen/docs/Use-Cases/agent_chat) with minimal effort. It simplifies the orchestration, automation, and optimization of a complex LLM workflow. It maximizes the performance of LLM models and overcomes their weaknesses.\\n- It supports [diverse conversation patterns](https://microsoft.github.io/autogen/docs/Use-Cases/agent_chat#supporting-diverse-conversation-patterns) for complex workflows. With customizable and conversable agents, developers can use AutoGen to build a wide range of conversation patterns concerning conversation autonomy,\\n  the number of agents, and agent conversation topology.\\n- It provides a collection of working systems with different complexities. These systems span a [wide range of applications](https://microsoft.github.io/autogen/docs/Use-Cases/agent_chat#diverse-applications-implemented-with-autogen) from various domains and complexities. This demonstrates how AutoGen can easily support diverse conversation patterns.\\n- AutoGen provides [enhanced LLM inference](https://microsoft.github.io/autogen/docs/Use-Cases/enhanced_inference#api-unification). It offers utilities like API unification and caching, and advanced usage patterns, such as error handling, multi-config inference, context programming, etc.\\n\\nAutoGen is created out of collaborative [research](https://microsoft.github.io/autogen/docs/Research) from Microsoft, Penn State University, and the University of Washington.\\n\\n<p align=\"right\" style=\"font-size: 14px; color: #555; margin-top: 20px;\">\\n  <a href=\"#readme-top\" style=\"text-decoration: none; color: blue; font-weight: bold;\">\\n    ↑ Back to Top ↑\\n  </a>\\n</p>\\n\\n## Roadmaps\\n\\nTo see what we are working on and what we plan to work on, please check our\\n[Roadmap Issues](https://aka.ms/autogen-roadmap).\\n\\n<p align=\"right\" style=\"font-size: 14px; color: #555; margin-top: 20px;\">\\n  <a href=\"#readme-top\" style=\"text-decoration: none; color: blue; font-weight: bold;\">\\n    ↑ Back to Top ↑\\n  </a>\\n</p>\\n\\n## Quickstart\\nThe easiest way to start playing is\\n1. Click below to use the GitHub Codespace\\n\\n    [![Open in GitHub Codespaces](https://github.com/codespaces/badge.svg)](https://codespaces.new/microsoft/autogen?quickstart=1)\\n\\n 2. Copy OAI_CONFIG_LIST_sample to ./notebook folder, name to OAI_CONFIG_LIST, and set the correct configuration.\\n 3. Start playing with the notebooks!\\n\\n*NOTE*: OAI_CONFIG_LIST_sample lists GPT-4 as the default model, as this represents our current recommendation, and is known to work well with AutoGen. If you use a model other than GPT-4, you may need to revise various system prompts (especially if using weaker models like GPT-3.5-turbo). Moreover, if you use models other than those hosted by OpenAI or Azure, you may incur additional risks related to alignment and safety. Proceed with caution if updating this default.\\n\\n<p align=\"right\" style=\"font-size: 14px; color: #555; margin-top: 20px;\">\\n  <a href=\"#readme-top\" style=\"text-decoration: none; color: blue; font-weight: bold;\">\\n    ↑ Back to Top ↑\\n  </a>\\n</p>\\n\\n## [Installation](https://microsoft.github.io/autogen/docs/Installation)\\n### Option 1. Install and Run AutoGen in Docker\\n\\nFind detailed instructions for users [here](https://microsoft.github.io/autogen/docs/installation/Docker#step-1-install-docker), and for developers [here](https://microsoft.github.io/autogen/docs/Contribute#docker-for-development).\\n\\n### Option 2. Install AutoGen Locally\\n\\nAutoGen requires **Python version >= 3.8, < 3.13**. It can be installed from pip:\\n\\n```bash\\npip install pyautogen\\n```\\n\\nMinimal dependencies are installed without extra options. You can install extra options based on the feature you need.\\n\\n<!-- For example, use the following to install the dependencies needed by the [`blendsearch`](https://microsoft.github.io/FLAML/docs/Use-Cases/Tune-User-Defined-Function#blendsearch-economical-hyperparameter-optimization-with-blended-search-strategy) option.\\n```bash\\npip install \"pyautogen[blendsearch]\"\\n``` -->\\n\\nFind more options in [Installation](https://microsoft.github.io/autogen/docs/Installation#option-2-install-autogen-locally-using-virtual-environment).\\n\\n<!-- Each of the [`notebook examples`](https://github.com/microsoft/autogen/tree/main/notebook) may require a specific option to be installed. -->\\n\\nEven if you are installing and running AutoGen locally outside of docker, the recommendation and default behavior of agents is to perform [code execution](https://microsoft.github.io/autogen/docs/FAQ/#code-execution) in docker. Find more instructions and how to change the default behaviour [here](https://microsoft.github.io/autogen/docs/Installation#code-execution-with-docker-(default)).\\n\\nFor LLM inference configurations, check the [FAQs](https://microsoft.github.io/autogen/docs/FAQ#set-your-api-endpoints).\\n\\n<p align=\"right\" style=\"font-size: 14px; color: #555; margin-top: 20px;\">\\n  <a href=\"#readme-top\" style=\"text-decoration: none; color: blue; font-weight: bold;\">\\n    ↑ Back to Top ↑\\n  </a>\\n</p>\\n\\n## Multi-Agent Conversation Framework\\n\\n', 'role': 'assistant'}, {'content': 'Autogen is a generic multi-agent conversation framework that automates chat among multiple capable agents for tasks that may require using tools via code, with or without human feedback. It allows customization of agents and integrates Large Language Models (LLMs), tools, and humans. The framework also enables complex applications by facilitating communication between multiple agents. Autogen offers features for customization, human participation, and enhanced LLM inferences. It can be applied with diverse conversation patterns for complex workflows and provides examples of working systems across various domains and complexities.', 'role': 'user'}], summary='Autogen is a generic multi-agent conversation framework that automates chat among multiple capable agents for tasks that may require using tools via code, with or without human feedback. It allows customization of agents and integrates Large Language Models (LLMs), tools, and humans. The framework also enables complex applications by facilitating communication between multiple agents. Autogen offers features for customization, human participation, and enhanced LLM inferences. It can be applied with diverse conversation patterns for complex workflows and provides examples of working systems across various domains and complexities.', cost={'usage_including_cached_inference': {'total_cost': 0.17967000000000002, 'gpt-4-0613': {'cost': 0.17967000000000002, 'prompt_tokens': 5779, 'completion_tokens': 105, 'total_tokens': 5884}}, 'usage_excluding_cached_inference': {'total_cost': 0.17967000000000002, 'gpt-4-0613': {'cost': 0.17967000000000002, 'prompt_tokens': 5779, 'completion_tokens': 105, 'total_tokens': 5884}}}, human_input=[''])"
      ]
     },
     "execution_count": 4,
     "metadata": {},
     "output_type": "execute_result"
    }
   ],
   "source": [
    "assistant.reset()\n",
    "ragproxyagent.initiate_chat(\n",
    "    assistant, message=ragproxyagent.message_generator, problem=\"What is autogen?\")"
   ]
  },
  {
   "cell_type": "markdown",
   "metadata": {},
   "source": [
    "### [Customising Embedding Functions](https://microsoft.github.io/autogen/blog/2023/10/18/RetrieveChat#customizing-embedding-function)"
   ]
  },
  {
   "cell_type": "code",
   "execution_count": null,
   "metadata": {},
   "outputs": [],
   "source": []
  },
  {
   "cell_type": "code",
   "execution_count": null,
   "metadata": {},
   "outputs": [],
   "source": []
  },
  {
   "cell_type": "markdown",
   "metadata": {},
   "source": []
  },
  {
   "cell_type": "markdown",
   "metadata": {},
   "source": []
  }
 ],
 "metadata": {
  "colab": {
   "provenance": []
  },
  "front_matter": {
   "description": "Use conversable language learning model agents to solve tasks and provide automatic feedback through a comprehensive example of writing, executing, and debugging Python code to compare stock price changes.",
   "tags": [
    "code generation",
    "debugging"
   ]
  },
  "kernelspec": {
   "display_name": "Python 3 (ipykernel)",
   "language": "python",
   "name": "python3"
  },
  "language_info": {
   "codemirror_mode": {
    "name": "ipython",
    "version": 3
   },
   "file_extension": ".py",
   "mimetype": "text/x-python",
   "name": "python",
   "nbconvert_exporter": "python",
   "pygments_lexer": "ipython3",
   "version": "3.8.19"
  },
  "vscode": {
   "interpreter": {
    "hash": "949777d72b0d2535278d3dc13498b2535136f6dfe0678499012e853ee9abcab1"
   }
  }
 },
 "nbformat": 4,
 "nbformat_minor": 4
}
